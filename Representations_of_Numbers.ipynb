{
  "nbformat": 4,
  "nbformat_minor": 0,
  "metadata": {
    "colab": {
      "name": "Representations_of_Numbers.ipynb",
      "provenance": [],
      "authorship_tag": "ABX9TyOAJmQhavcB1eU4FL9ToTOR",
      "include_colab_link": true
    },
    "kernelspec": {
      "name": "python3",
      "display_name": "Python 3"
    },
    "language_info": {
      "name": "python"
    }
  },
  "cells": [
    {
      "cell_type": "markdown",
      "metadata": {
        "id": "view-in-github",
        "colab_type": "text"
      },
      "source": [
        "<a href=\"https://colab.research.google.com/github/witonisaurus/longExposure/blob/master/Representations_of_Numbers.ipynb\" target=\"_parent\"><img src=\"https://colab.research.google.com/assets/colab-badge.svg\" alt=\"Open In Colab\"/></a>"
      ]
    },
    {
      "cell_type": "code",
      "source": [
        "# Convert a number n from decimal to a given base b\n",
        "# Input: Integer in decimal\n",
        "# Output: String representing a base b value (for integer b < 11)\n",
        "def decimal_to_base_b(n, b):\n",
        "  # Initializing output string \n",
        "  bin = \"\"\n",
        "  while n > 0:\n",
        "    bin += str(n%b)\n",
        "    n = n//b\n",
        "\n",
        "  return bin[::-1]\n"
      ],
      "metadata": {
        "colab": {
          "base_uri": "https://localhost:8080/"
        },
        "id": "XQuwpX7BX9DJ",
        "outputId": "d130e6f1-fce6-4ac2-c45a-0ea9cc5ebaf4"
      },
      "execution_count": 13,
      "outputs": [
        {
          "output_type": "stream",
          "name": "stdout",
          "text": [
            "52\n"
          ]
        }
      ]
    },
    {
      "cell_type": "code",
      "source": [
        "from math import log\n",
        "\n",
        "# Convert a number d (in decimal) to \n",
        "def dec_to_ieee(d):\n",
        "  # initialize output string\n",
        "  ieee = \"\"\n",
        "  \n",
        "  # determine sign bit\n",
        "  if d >= 0:\n",
        "    ieee += \"1\"\n",
        "  else:\n",
        "    ieee += \"0\"\n",
        "\n",
        "  # determine exponent string\n",
        "  exp_dec = int(log(d, 2)) + 1023\n",
        "  exp = decimal_to_base_b(exp_dec, 2)\n",
        "\n",
        "  # pad the front of the bit string to normalize the exponent to 11 bits\n",
        "  ieee = (11 - len(exp)) * '0' + exp\n",
        "  \n",
        "  # determine fractional component\n",
        "  power = 2 ** int(log(d, 2)) \n",
        "  frac_dec = d / power\n",
        "\n",
        "  frac = \"\"\n",
        "\n",
        "  while len(frac) < 52:\n",
        "    frac_dec = frac_dec - int(frac_dec)\n",
        "\n",
        "    if frac_dec > 0:\n",
        "        frac += \"1\"\n",
        "\n",
        "    frac_dec *= 2\n",
        "\n",
        "  ieee += frac\n",
        "\n",
        "  return ieee\n",
        "\n",
        "print(dec_to_ieee(15))\n",
        "\n"
      ],
      "metadata": {
        "id": "JbzZSnB3tQWo"
      },
      "execution_count": null,
      "outputs": []
    }
  ]
}